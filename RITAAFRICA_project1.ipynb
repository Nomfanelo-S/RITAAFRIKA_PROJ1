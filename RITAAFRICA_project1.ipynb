{
 "cells": [
  {
   "cell_type": "markdown",
   "metadata": {},
   "source": [
    "# Customer Feedback Management by Nomfanelo Skhosana\n",
    "## A project in Data Collection and Data Analysis"
   ]
  },
  {
   "cell_type": "markdown",
   "metadata": {},
   "source": [
    "### Import libraries: We import pandas"
   ]
  },
  {
   "cell_type": "code",
   "execution_count": 50,
   "metadata": {},
   "outputs": [],
   "source": [
    "import pandas as pd "
   ]
  },
  {
   "cell_type": "markdown",
   "metadata": {},
   "source": [
    "### Set up variables"
   ]
  },
  {
   "cell_type": "code",
   "execution_count": 51,
   "metadata": {},
   "outputs": [],
   "source": [
    "#Created the list under the variable data\n",
    "data = []"
   ]
  },
  {
   "cell_type": "code",
   "execution_count": 52,
   "metadata": {},
   "outputs": [],
   "source": [
    "#Created the variable feedback entries and assigned the value 5 \n",
    "feedback_entries = 5"
   ]
  },
  {
   "cell_type": "markdown",
   "metadata": {},
   "source": [
    "### Collect Customer Feedback\n",
    "#### We gathered the data by employing a \"for loop\" and leveraging indexing, with the \"feedback entries\" variable managing the iteration range. The input() function was called to receive the customer’s name, rating, and feedback, ensuring accurate data capture. The collected information was then organized under the appropriate headings to maintain clarity and structure."
   ]
  },
  {
   "cell_type": "code",
   "execution_count": 53,
   "metadata": {},
   "outputs": [
    {
     "name": "stdout",
     "output_type": "stream",
     "text": [
      "\n",
      "Entry 1: Name: Eli, Rating: 4, Feedback: We received great service from the teller, Emily. She made the process easy.  \n",
      "\n",
      "Entry 2: Name: Brandy, Rating: 3, Feedback: The servicee was okay but the staff requires more training. I was disappointed.  \n",
      "\n",
      "Entry 3: Name: Freddy, Rating: 1, Feedback: The service was poor. The staff was unhelpful and rude.  \n",
      "\n",
      "Entry 4: Name: Xhina, Rating: 2, Feedback: The staff was rude and the service was bad. I am very disappointed.  \n",
      "\n",
      "Entry 5: Name: Winter, Rating: 4, Feedback: The service was okay but the staff require more training.  \n"
     ]
    }
   ],
   "source": [
    "#Data Collection: Collecting customer feedback data using for loop and input\n",
    "for i in range(feedback_entries):\n",
    "    customer_name = input(\"Enter your name: \")\n",
    "    customer_rating = int(input(\"Enter your rating: \"))\n",
    "    customer_feedback = input(\"Enter your feedback: \")\n",
    "    \n",
    "    print(f\"\\nEntry {i + 1}: Name: {customer_name}, Rating: {customer_rating}, Feedback: {customer_feedback} \")\n",
    "    entry = {\"Name\": customer_name, \"Rating\": customer_rating, \"Feedback\": customer_feedback}\n",
    "    data.append(entry)\n"
   ]
  },
  {
   "cell_type": "markdown",
   "metadata": {},
   "source": [
    "### Saved the data\n",
    "#### We assigned the information to df to store it in a DataFrame and printed the results. "
   ]
  },
  {
   "cell_type": "code",
   "execution_count": 54,
   "metadata": {},
   "outputs": [
    {
     "name": "stdout",
     "output_type": "stream",
     "text": [
      "\n",
      "Data in DataFrame format: \n",
      "     Name  Rating                                           Feedback\n",
      "0     Eli       4  We received great service from the teller, Emi...\n",
      "1  Brandy       3  The servicee was okay but the staff requires m...\n",
      "2  Freddy       1  The service was poor. The staff was unhelpful ...\n",
      "3   Xhina       2  The staff was rude and the service was bad. I ...\n",
      "4  Winter       4  The service was okay but the staff require mor...\n"
     ]
    }
   ],
   "source": [
    "\n",
    "#Displaying Collected Data and saving it in a Data Frame \n",
    "\n",
    "df = pd.DataFrame(data)\n",
    "print(\"\\nData in DataFrame format: \")\n",
    "print(df)\n",
    "\n"
   ]
  },
  {
   "cell_type": "markdown",
   "metadata": {},
   "source": [
    "### Save document to CSV\n",
    "#### We exported the information to a CSV file named \"customer_feedback.csv\" and displayed its contents."
   ]
  },
  {
   "cell_type": "code",
   "execution_count": 55,
   "metadata": {},
   "outputs": [
    {
     "name": "stdout",
     "output_type": "stream",
     "text": [
      "\n",
      "CSV file 'customer_feedback.csv' created successfully!\n"
     ]
    }
   ],
   "source": [
    "\n",
    "#Saving information to csv file. \n",
    "df.to_csv(\"customer_feedback.csv\", index= False)\n",
    "print(\"\\nCSV file 'customer_feedback.csv' created successfully!\")\n"
   ]
  },
  {
   "cell_type": "markdown",
   "metadata": {},
   "source": [
    "### Display information\n",
    "#### We displayed the information of the first five customers along with the DataFrame summary."
   ]
  },
  {
   "cell_type": "code",
   "execution_count": 56,
   "metadata": {},
   "outputs": [
    {
     "name": "stdout",
     "output_type": "stream",
     "text": [
      "     Name  Rating                                           Feedback\n",
      "0     Eli       4  We received great service from the teller, Emi...\n",
      "1  Brandy       3  The servicee was okay but the staff requires m...\n",
      "2  Freddy       1  The service was poor. The staff was unhelpful ...\n",
      "3   Xhina       2  The staff was rude and the service was bad. I ...\n",
      "4  Winter       4  The service was okay but the staff require mor...\n",
      "<class 'pandas.core.frame.DataFrame'>\n",
      "RangeIndex: 5 entries, 0 to 4\n",
      "Data columns (total 3 columns):\n",
      " #   Column    Non-Null Count  Dtype \n",
      "---  ------    --------------  ----- \n",
      " 0   Name      5 non-null      object\n",
      " 1   Rating    5 non-null      int64 \n",
      " 2   Feedback  5 non-null      object\n",
      "dtypes: int64(1), object(2)\n",
      "memory usage: 252.0+ bytes\n",
      "None\n"
     ]
    }
   ],
   "source": [
    "#Print out the first 5 rows and the information of the database\n",
    "print(df.head())\n",
    "print(df.info())"
   ]
  },
  {
   "cell_type": "markdown",
   "metadata": {},
   "source": [
    "### Average Calculations \n",
    "#### We computed the total of the customer rankings and determined the average."
   ]
  },
  {
   "cell_type": "code",
   "execution_count": 57,
   "metadata": {},
   "outputs": [
    {
     "name": "stdout",
     "output_type": "stream",
     "text": [
      "Average Rating: 2.8\n"
     ]
    }
   ],
   "source": [
    "#Calculating the total and average Customer Ratings\n",
    "total_ratings = df[\"Rating\"].sum()\n",
    "average_rating= total_ratings / len(df)\n",
    "\n",
    "#Print out the result of calculation\n",
    "print(\"Average Rating:\", average_rating)"
   ]
  },
  {
   "cell_type": "markdown",
   "metadata": {},
   "source": [
    "### Creating the function: Feedback Categories \n",
    "#### The \"Feedback Categories\" function was created with the DataFrame as its argument. A variable, feedback_category, was initialized as an empty list. A for loop, utilizing indexing and row for variables and df.iterrows() for sequence, iterated through the DataFrame rows. The iterrows() method enabled the application of if-elif conditions to analyze rankings and assign them to appropriate categories. The categorized data was stored in the DataFrame under the heading \"Category,\" and the information was displayed."
   ]
  },
  {
   "cell_type": "code",
   "execution_count": 58,
   "metadata": {},
   "outputs": [
    {
     "name": "stdout",
     "output_type": "stream",
     "text": [
      "\n",
      "Entry 1: Name: Eli, Rating: 4, Customer_Feedback: We received great service from the teller, Emily. She made the process easy. , Category: Very positive\n",
      "\n",
      "Entry 2: Name: Brandy, Rating: 3, Customer_Feedback: The servicee was okay but the staff requires more training. I was disappointed. , Category: Neutral\n",
      "\n",
      "Entry 3: Name: Freddy, Rating: 1, Customer_Feedback: The service was poor. The staff was unhelpful and rude. , Category: Negative\n",
      "\n",
      "Entry 4: Name: Xhina, Rating: 2, Customer_Feedback: The staff was rude and the service was bad. I am very disappointed. , Category: Negative\n",
      "\n",
      "Entry 5: Name: Winter, Rating: 4, Customer_Feedback: The service was okay but the staff require more training. , Category: Positive\n",
      "\n",
      "Results:\n",
      "\n",
      "     Name  Rating                                           Feedback  \\\n",
      "0     Eli       4  We received great service from the teller, Emi...   \n",
      "1  Brandy       3  The servicee was okay but the staff requires m...   \n",
      "2  Freddy       1  The service was poor. The staff was unhelpful ...   \n",
      "3   Xhina       2  The staff was rude and the service was bad. I ...   \n",
      "4  Winter       4  The service was okay but the staff require mor...   \n",
      "\n",
      "        Category  \n",
      "0  Very positive  \n",
      "1        Neutral  \n",
      "2       Negative  \n",
      "3       Negative  \n",
      "4       Positive  \n"
     ]
    }
   ],
   "source": [
    "#Categorizing the feedback provided by customers using a function, for loop and if condition\n",
    "\n",
    "def feedback_categories(df): \n",
    "    feedback_category = []\n",
    "\n",
    "    for i, row in df.iterrows():\n",
    "        if row['Rating'] >= 4 and \"great service\" in row ['Feedback'].lower():\n",
    "                feedback_category.append(\"Very positive\")\n",
    "        elif row['Rating'] >= 4:\n",
    "                feedback_category.append(\"Positive\")\n",
    "        elif row['Rating'] == 3:\n",
    "                feedback_category.append(\"Neutral\")\n",
    "        else:\n",
    "                feedback_category.append(\"Negative\")\n",
    "\n",
    "        print(f\"\\nEntry {i+1}: Name: {row['Name']}, Rating: {row['Rating']}, Customer_Feedback: {row ['Feedback']}, Category: {feedback_category[i]}\")\n",
    "\n",
    "    df['Category'] = feedback_category\n",
    "    return df \n",
    "\n",
    "#Save the results to the Data Frame\n",
    "df = pd.DataFrame(data)\n",
    "df = feedback_categories(df)\n",
    "\n",
    "#Print out the results\n",
    "print(\"\\nResults:\\n\")\n",
    "print(df)\n"
   ]
  },
  {
   "cell_type": "markdown",
   "metadata": {},
   "source": [
    "### Creating the function: Count Feedback Words\n",
    "#### The \"Counting Feedback Words\" function was created with the DataFrame as its argument. A for loop was applied, utilizing indexing and the row variable alongside df.iterrows(). Two variables, feedback and word_count, were introduced to count the number of words in each feedback entry. The resulting data was saved in the DataFrame and displayed. "
   ]
  },
  {
   "cell_type": "code",
   "execution_count": 59,
   "metadata": {},
   "outputs": [
    {
     "name": "stdout",
     "output_type": "stream",
     "text": [
      "\n",
      "Word Count for Each Feedback Entry: \n",
      "Entry 1 - Eli: 13 words\n",
      "Entry 2 - Brandy: 13 words\n",
      "Entry 3 - Freddy: 10 words\n",
      "Entry 4 - Xhina: 13 words\n",
      "Entry 5 - Winter: 10 words\n",
      "None\n"
     ]
    }
   ],
   "source": [
    "#Analyzing the feedback comments \n",
    "def count_feedback_words (df):\n",
    "   print(\"\\nWord Count for Each Feedback Entry: \")\n",
    "   for i, row in df.iterrows():\n",
    "      feedback = row[\"Feedback\"]\n",
    "      word_count = len(feedback.split())\n",
    "      print(f\"Entry { i + 1} - {row['Name']}: {word_count} words\")\n",
    "\n",
    "#Save the results into the Data Frame\n",
    "df = pd.DataFrame(data)\n",
    "df = count_feedback_words(df)\n",
    "\n",
    "#Print out the results\n",
    "print(df)\n"
   ]
  },
  {
   "cell_type": "markdown",
   "metadata": {},
   "source": [
    "### Creating the function: Find Word \n",
    "#### The \"Find Word\" function was created to analyze customer feedback and count the frequency with which the term \"service\" is mentioned."
   ]
  },
  {
   "cell_type": "code",
   "execution_count": 60,
   "metadata": {},
   "outputs": [
    {
     "name": "stdout",
     "output_type": "stream",
     "text": [
      "\n",
      "Times 'service' is mention: \n",
      "Entry 1 - Eli {1}\n",
      "Entry 2 - Brandy {1}\n",
      "Entry 3 - Freddy {1}\n",
      "Entry 4 - Xhina {1}\n",
      "Entry 5 - Winter {1}\n",
      "None\n"
     ]
    }
   ],
   "source": [
    "#Analyse the occurence of a specific word\n",
    "\n",
    "def find_word (df):\n",
    "    print(\"\\nTimes 'service' is mention: \")\n",
    "    for i, row in df.iterrows():\n",
    "        word = row[\"Feedback\"]\n",
    "        word_counted = word.count(\"service\")\n",
    "        print(f\"Entry {i + 1} - {row['Name']}\", {word_counted})\n",
    "\n",
    "#Save the results into the Data Frame\n",
    "df = pd.DataFrame(data)\n",
    "df = find_word(df)\n",
    "\n",
    "#Print out the results\n",
    "print(df)"
   ]
  }
 ],
 "metadata": {
  "kernelspec": {
   "display_name": "Python 3",
   "language": "python",
   "name": "python3"
  },
  "language_info": {
   "codemirror_mode": {
    "name": "ipython",
    "version": 3
   },
   "file_extension": ".py",
   "mimetype": "text/x-python",
   "name": "python",
   "nbconvert_exporter": "python",
   "pygments_lexer": "ipython3",
   "version": "3.11.9"
  }
 },
 "nbformat": 4,
 "nbformat_minor": 2
}
