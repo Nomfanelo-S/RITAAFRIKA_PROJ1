{
 "cells": [
  {
   "cell_type": "markdown",
   "metadata": {},
   "source": [
    "# Customer Feedback Management by Nomfanelo Skhosana\n",
    "## A project in Data Collection and Data Analysis"
   ]
  },
  {
   "cell_type": "markdown",
   "metadata": {},
   "source": [
    "### Import libraries: Imported pandas"
   ]
  },
  {
   "cell_type": "code",
   "execution_count": 2,
   "metadata": {},
   "outputs": [],
   "source": [
    "import pandas as pd "
   ]
  },
  {
   "cell_type": "markdown",
   "metadata": {},
   "source": [
    "### Set up variables"
   ]
  },
  {
   "cell_type": "code",
   "execution_count": 3,
   "metadata": {},
   "outputs": [],
   "source": [
    "#Created the list under the variable data\n",
    "data = []"
   ]
  },
  {
   "cell_type": "code",
   "execution_count": 4,
   "metadata": {},
   "outputs": [],
   "source": [
    "#Created the variable feedback entries and assigned the value 5 \n",
    "feedback_entries = 5"
   ]
  },
  {
   "cell_type": "markdown",
   "metadata": {},
   "source": [
    "### Collect Customer Feedback\n",
    "#### Data was collected using a for loop and indexing, with the \"feedback_entries\" variable controlling the iteration range. The input() function facilitated the capture of customer names, ratings, and feedback to ensure accurate data entry. The collected information was organized under relevant headings to maintain clarity and structure."
   ]
  },
  {
   "cell_type": "code",
   "execution_count": 5,
   "metadata": {},
   "outputs": [
    {
     "name": "stdout",
     "output_type": "stream",
     "text": [
      "\n",
      "Entry 1: Name: Kathy, Rating: 4, Feedback: We received great service from the staff. They were so kind and helpful.  \n",
      "\n",
      "Entry 2: Name: Elaine, Rating: 5, Feedback: I loved the great service from Zach. He was very helpful.  \n",
      "\n",
      "Entry 3: Name: Jacob, Rating: 1, Feedback: It was poor service from the beginning until the very end. I am disappointed.  \n",
      "\n",
      "Entry 4: Name: Kathleen, Rating: 3, Feedback: The staff was rude and provided poor service, but it was busy and understandable \n",
      "\n",
      "Entry 5: Name: Jimmy, Rating: 2, Feedback: What a terrible experience. The staff needs training and their poor service.  \n"
     ]
    }
   ],
   "source": [
    "#Data Collection: Collecting customer feedback data using for loop and input\n",
    "for i in range(feedback_entries):\n",
    "    customer_name = input(\"Enter your name: \")\n",
    "    customer_rating = int(input(\"Enter your rating: \"))\n",
    "    customer_feedback = input(\"Enter your feedback: \")\n",
    "    \n",
    "    print(f\"\\nEntry {i + 1}: Name: {customer_name}, Rating: {customer_rating}, Feedback: {customer_feedback} \")\n",
    "    entry = {\"Name\": customer_name, \"Rating\": customer_rating, \"Feedback\": customer_feedback}\n",
    "    data.append(entry)\n"
   ]
  },
  {
   "cell_type": "markdown",
   "metadata": {},
   "source": [
    "### Saved the data\n",
    "#### The information was assigned to df for storage in a DataFrame, and the results were printed."
   ]
  },
  {
   "cell_type": "code",
   "execution_count": 6,
   "metadata": {},
   "outputs": [
    {
     "name": "stdout",
     "output_type": "stream",
     "text": [
      "\n",
      "Data in DataFrame format: \n",
      "       Name  Rating                                           Feedback\n",
      "0     Kathy       4  We received great service from the staff. They...\n",
      "1    Elaine       5  I loved the great service from Zach. He was ve...\n",
      "2     Jacob       1  It was poor service from the beginning until t...\n",
      "3  Kathleen       3  The staff was rude and provided poor service, ...\n",
      "4     Jimmy       2  What a terrible experience. The staff needs tr...\n"
     ]
    }
   ],
   "source": [
    "\n",
    "#Displaying Collected Data and saving it in a Data Frame \n",
    "\n",
    "df = pd.DataFrame(data)\n",
    "print(\"\\nData in DataFrame format: \")\n",
    "print(df)\n",
    "\n"
   ]
  },
  {
   "cell_type": "markdown",
   "metadata": {},
   "source": [
    "### Save document to CSV\n",
    "#### The information was exported to a CSV file named \"customer_feedback.csv\", and its contents were displayed."
   ]
  },
  {
   "cell_type": "code",
   "execution_count": 7,
   "metadata": {},
   "outputs": [
    {
     "name": "stdout",
     "output_type": "stream",
     "text": [
      "\n",
      "CSV file 'customer_feedback.csv' created successfully!\n"
     ]
    }
   ],
   "source": [
    "\n",
    "#Saving information to csv file. \n",
    "df.to_csv(\"customer_feedback.csv\", index= False)\n",
    "print(\"\\nCSV file 'customer_feedback.csv' created successfully!\")\n"
   ]
  },
  {
   "cell_type": "markdown",
   "metadata": {},
   "source": [
    "### Display information\n",
    "#### The information of the first five customers, along with the DataFrame summary, was displayed."
   ]
  },
  {
   "cell_type": "code",
   "execution_count": 8,
   "metadata": {},
   "outputs": [
    {
     "name": "stdout",
     "output_type": "stream",
     "text": [
      "       Name  Rating                                           Feedback\n",
      "0     Kathy       4  We received great service from the staff. They...\n",
      "1    Elaine       5  I loved the great service from Zach. He was ve...\n",
      "2     Jacob       1  It was poor service from the beginning until t...\n",
      "3  Kathleen       3  The staff was rude and provided poor service, ...\n",
      "4     Jimmy       2  What a terrible experience. The staff needs tr...\n",
      "<class 'pandas.core.frame.DataFrame'>\n",
      "RangeIndex: 5 entries, 0 to 4\n",
      "Data columns (total 3 columns):\n",
      " #   Column    Non-Null Count  Dtype \n",
      "---  ------    --------------  ----- \n",
      " 0   Name      5 non-null      object\n",
      " 1   Rating    5 non-null      int64 \n",
      " 2   Feedback  5 non-null      object\n",
      "dtypes: int64(1), object(2)\n",
      "memory usage: 252.0+ bytes\n",
      "None\n"
     ]
    }
   ],
   "source": [
    "#Print out the first 5 rows and the information of the database\n",
    "print(df.head())\n",
    "print(df.info())"
   ]
  },
  {
   "cell_type": "markdown",
   "metadata": {},
   "source": [
    "### Average Calculations \n",
    "#### The total of the customer rankings was computed, and the average was determined."
   ]
  },
  {
   "cell_type": "code",
   "execution_count": 9,
   "metadata": {},
   "outputs": [
    {
     "name": "stdout",
     "output_type": "stream",
     "text": [
      "Average Rating: 3.0\n"
     ]
    }
   ],
   "source": [
    "#Calculating the total and average Customer Ratings\n",
    "total_ratings = df[\"Rating\"].sum()\n",
    "average_rating= total_ratings / len(df)\n",
    "\n",
    "#Print out the result of calculation\n",
    "print(\"Average Rating:\", average_rating)"
   ]
  },
  {
   "cell_type": "markdown",
   "metadata": {},
   "source": [
    "### Creating the function: Feedback Categories \n",
    "#### The \"Feedback Categories\" function was created with the DataFrame as its argument. A variable, feedback_category, was initialized as an empty list. A for loop, utilizing indexing and row for variables and df.iterrows() for sequence, iterated through the DataFrame rows. The iterrows() method enabled the application of if-elif conditions to analyze rankings and assign them to appropriate categories. The categorized data was stored in the DataFrame under the heading \"Category,\" and the information was displayed."
   ]
  },
  {
   "cell_type": "code",
   "execution_count": 10,
   "metadata": {},
   "outputs": [
    {
     "name": "stdout",
     "output_type": "stream",
     "text": [
      "\n",
      "Entry 1: Name: Kathy, Rating: 4, Customer_Feedback: We received great service from the staff. They were so kind and helpful. , Category: Very positive\n",
      "\n",
      "Entry 2: Name: Elaine, Rating: 5, Customer_Feedback: I loved the great service from Zach. He was very helpful. , Category: Very positive\n",
      "\n",
      "Entry 3: Name: Jacob, Rating: 1, Customer_Feedback: It was poor service from the beginning until the very end. I am disappointed. , Category: Negative\n",
      "\n",
      "Entry 4: Name: Kathleen, Rating: 3, Customer_Feedback: The staff was rude and provided poor service, but it was busy and understandable, Category: Neutral\n",
      "\n",
      "Entry 5: Name: Jimmy, Rating: 2, Customer_Feedback: What a terrible experience. The staff needs training and their poor service. , Category: Negative\n",
      "\n",
      "Results:\n",
      "\n",
      "       Name  Rating                                           Feedback  \\\n",
      "0     Kathy       4  We received great service from the staff. They...   \n",
      "1    Elaine       5  I loved the great service from Zach. He was ve...   \n",
      "2     Jacob       1  It was poor service from the beginning until t...   \n",
      "3  Kathleen       3  The staff was rude and provided poor service, ...   \n",
      "4     Jimmy       2  What a terrible experience. The staff needs tr...   \n",
      "\n",
      "        Category  \n",
      "0  Very positive  \n",
      "1  Very positive  \n",
      "2       Negative  \n",
      "3        Neutral  \n",
      "4       Negative  \n"
     ]
    }
   ],
   "source": [
    "#Categorizing the feedback provided by customers using a function, for loop and if condition\n",
    "\n",
    "def feedback_categories(df): \n",
    "    feedback_category = []\n",
    "\n",
    "    for i, row in df.iterrows():\n",
    "        if row['Rating'] >= 4 and \"great service\" in row ['Feedback'].lower():\n",
    "                feedback_category.append(\"Very positive\")\n",
    "        elif row['Rating'] >= 4:\n",
    "                feedback_category.append(\"Positive\")\n",
    "        elif row['Rating'] == 3:\n",
    "                feedback_category.append(\"Neutral\")\n",
    "        else:\n",
    "                feedback_category.append(\"Negative\")\n",
    "\n",
    "        print(f\"\\nEntry {i+1}: Name: {row['Name']}, Rating: {row['Rating']}, Customer_Feedback: {row ['Feedback']}, Category: {feedback_category[i]}\")\n",
    "\n",
    "    df['Category'] = feedback_category\n",
    "    return df \n",
    "\n",
    "#Save the results to the Data Frame\n",
    "df = pd.DataFrame(data)\n",
    "df = feedback_categories(df)\n",
    "\n",
    "#Print out the results\n",
    "print(\"\\nResults:\\n\")\n",
    "print(df)\n"
   ]
  },
  {
   "cell_type": "markdown",
   "metadata": {},
   "source": [
    "### Creating the function: Count Feedback Words\n",
    "#### The \"Counting Feedback Words\" function was created with the DataFrame as its argument. A for loop was applied, utilizing indexing and the row variable alongside df.iterrows(). Two variables, feedback and word_count, were introduced to count the number of words in each feedback entry. The resulting data was saved in the DataFrame and displayed. "
   ]
  },
  {
   "cell_type": "code",
   "execution_count": 11,
   "metadata": {},
   "outputs": [
    {
     "name": "stdout",
     "output_type": "stream",
     "text": [
      "\n",
      "Word Count for Each Feedback Entry: \n",
      "Entry 1 - Kathy: 13 words\n",
      "Entry 2 - Elaine: 11 words\n",
      "Entry 3 - Jacob: 14 words\n",
      "Entry 4 - Kathleen: 14 words\n",
      "Entry 5 - Jimmy: 12 words\n",
      "None\n"
     ]
    }
   ],
   "source": [
    "#Analyzing the feedback comments \n",
    "def count_feedback_words (df):\n",
    "   print(\"\\nWord Count for Each Feedback Entry: \")\n",
    "   for i, row in df.iterrows():\n",
    "      feedback = row[\"Feedback\"]\n",
    "      word_count = len(feedback.split())\n",
    "      print(f\"Entry { i + 1} - {row['Name']}: {word_count} words\")\n",
    "\n",
    "#Save the results into the Data Frame\n",
    "df = pd.DataFrame(data)\n",
    "df = count_feedback_words(df)\n",
    "\n",
    "#Print out the results\n",
    "print(df)\n"
   ]
  },
  {
   "cell_type": "markdown",
   "metadata": {},
   "source": [
    "### Creating the function: Find Word \n",
    "#### The \"Find Word\" and \"Find Word2\" function was created to analyze customer feedback and count the frequency with which the term \"service\" and \"poor service\" are mentioned."
   ]
  },
  {
   "cell_type": "code",
   "execution_count": 14,
   "metadata": {},
   "outputs": [
    {
     "name": "stdout",
     "output_type": "stream",
     "text": [
      "\n",
      "Times 'service' is mention: \n",
      "Entry 1 - Kathy {1}\n",
      "Entry 2 - Elaine {1}\n",
      "Entry 3 - Jacob {1}\n",
      "Entry 4 - Kathleen {1}\n",
      "Entry 5 - Jimmy {1}\n",
      "None\n"
     ]
    }
   ],
   "source": [
    "#Analyse the occurence of a specific word\n",
    "\n",
    "def find_word (df):\n",
    "    print(\"\\nTimes 'service' is mention: \")\n",
    "    for i, row in df.iterrows():\n",
    "        word = row[\"Feedback\"]\n",
    "        word_counted = word.count(\"service\")\n",
    "        print(f\"Entry {i + 1} - {row['Name']}\", {word_counted})\n",
    "\n",
    "#Save the results into the Data Frame\n",
    "df = pd.DataFrame(data)\n",
    "df = find_word(df)\n",
    "\n",
    "#Print out the results\n",
    "print(df)"
   ]
  },
  {
   "cell_type": "code",
   "execution_count": 21,
   "metadata": {},
   "outputs": [
    {
     "name": "stdout",
     "output_type": "stream",
     "text": [
      "\n",
      "Times 'poor service' is mention: \n",
      "Entry 1 - Kathy {0}\n",
      "Entry 2 - Elaine {0}\n",
      "Entry 3 - Jacob {1}\n",
      "Entry 4 - Kathleen {1}\n",
      "Entry 5 - Jimmy {1}\n",
      "None\n"
     ]
    }
   ],
   "source": [
    "#Analyse the occurence of specfic word\n",
    "def find_word2 (df):\n",
    "    print(\"\\nTimes 'poor service' is mention: \")\n",
    "    for i, row in df.iterrows():\n",
    "        word2 = row[\"Feedback\"]\n",
    "        words_counted = word2.count(\"poor service\")\n",
    "        print(f\"Entry {i + 1} - {row['Name']}\", {words_counted})\n",
    "\n",
    "#Save the results into the Data Frame\n",
    "df = pd.DataFrame(data)\n",
    "df = find_word2(df)\n",
    "\n",
    "#Print out the results\n",
    "print(df)"
   ]
  },
  {
   "cell_type": "markdown",
   "metadata": {},
   "source": [
    "### Findings \n",
    "#### The purpose of the Customer Management System was to analyze customer feedback to determine how customer experience is affected. The analysis examined feedback to gauge customer experience by tracking how often the term “service” appeared in reviews. Each entry was processed using a for loop to identify mentions of “service,” and the data was stored in a DataFrame for further analysis. This approach provided insight into how customers perceive and express their experiences with the service they received.\n",
    "#### Out of the five feedback entries, “service” was mentioned in all of them. Only one entry described the experience as “great service,” while three out of the five entries reflected \"poor service\". \n",
    "#### The results indicate that “service” is a key area of focus in customer feedback, with both positive and negative mentions. This suggests that customers place significant value on service quality in shaping their overall experience.\n",
    "#### It is recommended to implement service training programs to improve consistency. Additionally, gathering more specific feedback on customer service touchpoints could provide deeper insights into areas for improvement."
   ]
  }
 ],
 "metadata": {
  "kernelspec": {
   "display_name": "Python 3",
   "language": "python",
   "name": "python3"
  },
  "language_info": {
   "codemirror_mode": {
    "name": "ipython",
    "version": 3
   },
   "file_extension": ".py",
   "mimetype": "text/x-python",
   "name": "python",
   "nbconvert_exporter": "python",
   "pygments_lexer": "ipython3",
   "version": "3.11.9"
  }
 },
 "nbformat": 4,
 "nbformat_minor": 2
}
