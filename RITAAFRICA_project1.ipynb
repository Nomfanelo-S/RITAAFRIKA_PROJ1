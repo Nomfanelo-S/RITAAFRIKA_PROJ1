{
 "cells": [
  {
   "cell_type": "code",
   "execution_count": 39,
   "metadata": {},
   "outputs": [],
   "source": [
    "import pandas as pd "
   ]
  },
  {
   "cell_type": "code",
   "execution_count": 40,
   "metadata": {},
   "outputs": [],
   "source": [
    "#\n",
    "data = []"
   ]
  },
  {
   "cell_type": "code",
   "execution_count": 41,
   "metadata": {},
   "outputs": [],
   "source": [
    "feedback_entries = 5"
   ]
  },
  {
   "cell_type": "code",
   "execution_count": 42,
   "metadata": {},
   "outputs": [
    {
     "name": "stdout",
     "output_type": "stream",
     "text": [
      "\n",
      "Entry 1: Name: Tendai, Rating: 5, Feedback: They have great service and are very kind.  \n",
      "\n",
      "Entry 2: Name: Emily, Rating: 4, Feedback: The store has amazing staff and provided great service. \n",
      "\n",
      "Entry 3: Name: Emily, Rating: 3, Feedback: Okay service. The staff needs to work more on staff training for better service.  \n",
      "\n",
      "Entry 4: Name: Emma , Rating: 1, Feedback: I am unhappy with how the staff handled my complaint about our product. Poor service.  \n",
      "\n",
      "Entry 5: Name: Sandy, Rating: 1, Feedback: Poor service.  Owners need to focus more on training staff.  \n",
      "\n",
      "Data in DataFrame format: \n",
      "     Name  Rating                                           Feedback\n",
      "0  Tendai       5        They have great service and are very kind. \n",
      "1   Emily       4  The store has amazing staff and provided great...\n",
      "2   Emily       3  Okay service. The staff needs to work more on ...\n",
      "3   Emma        1  I am unhappy with how the staff handled my com...\n",
      "4   Sandy       1  Poor service.  Owners need to focus more on tr...\n",
      "\n",
      "CSV file 'customer_feedback.csv' created successfully!\n"
     ]
    }
   ],
   "source": [
    "#Data Collection: Collecting customer feedback data using for loop and input\n",
    "for i in range(feedback_entries):\n",
    "    customer_name = input(\"Enter customer's name: \")\n",
    "    customer_rating = int(input(\"Enter customer's rating: \"))\n",
    "    customer_feedback = input(\"Enter customer's feedback: \")\n",
    "    \n",
    "    print(f\"\\nEntry {i + 1}: Name: {customer_name}, Rating: {customer_rating}, Feedback: {customer_feedback} \")\n",
    "    entry = {\"Name\": customer_name, \"Rating\": customer_rating, \"Feedback\": customer_feedback}\n",
    "    data.append(entry)\n",
    "\n",
    "#Displaying Collected Data and saving it in a Data Frame \n",
    "\n",
    "df = pd.DataFrame(data)\n",
    "print(\"\\nData in DataFrame format: \")\n",
    "print(df)\n",
    "\n",
    "#Saving information to csv\n",
    "df.to_csv(\"customer_feedback.csv\", index= False)\n",
    "print(\"\\nCSV file 'customer_feedback.csv' created successfully!\")\n"
   ]
  },
  {
   "cell_type": "code",
   "execution_count": 43,
   "metadata": {},
   "outputs": [
    {
     "name": "stdout",
     "output_type": "stream",
     "text": [
      "     Name  Rating                                           Feedback\n",
      "0  Tendai       5        They have great service and are very kind. \n",
      "1   Emily       4  The store has amazing staff and provided great...\n",
      "2   Emily       3  Okay service. The staff needs to work more on ...\n",
      "3   Emma        1  I am unhappy with how the staff handled my com...\n",
      "4   Sandy       1  Poor service.  Owners need to focus more on tr...\n",
      "<class 'pandas.core.frame.DataFrame'>\n",
      "RangeIndex: 5 entries, 0 to 4\n",
      "Data columns (total 3 columns):\n",
      " #   Column    Non-Null Count  Dtype \n",
      "---  ------    --------------  ----- \n",
      " 0   Name      5 non-null      object\n",
      " 1   Rating    5 non-null      int64 \n",
      " 2   Feedback  5 non-null      object\n",
      "dtypes: int64(1), object(2)\n",
      "memory usage: 252.0+ bytes\n",
      "None\n"
     ]
    }
   ],
   "source": [
    "print(df.head())\n",
    "print(df.info())"
   ]
  },
  {
   "cell_type": "code",
   "execution_count": 44,
   "metadata": {},
   "outputs": [
    {
     "name": "stdout",
     "output_type": "stream",
     "text": [
      "Average Rating: 2.8\n"
     ]
    }
   ],
   "source": [
    "#Calculating total and average ratings\n",
    "total_ratings = df[\"Rating\"].sum()\n",
    "average_rating= total_ratings / len(df)\n",
    "print(\"Average Rating:\", average_rating)"
   ]
  },
  {
   "cell_type": "code",
   "execution_count": 45,
   "metadata": {},
   "outputs": [
    {
     "name": "stdout",
     "output_type": "stream",
     "text": [
      "\n",
      "Entry 1: Name: Tendai, Rating: 5, Customer_Feedback: They have great service and are very kind. , Category: Very positive\n",
      "\n",
      "Entry 2: Name: Emily, Rating: 4, Customer_Feedback: The store has amazing staff and provided great service., Category: Very positive\n",
      "\n",
      "Entry 3: Name: Emily, Rating: 3, Customer_Feedback: Okay service. The staff needs to work more on staff training for better service. , Category: Neutral\n",
      "\n",
      "Entry 4: Name: Emma , Rating: 1, Customer_Feedback: I am unhappy with how the staff handled my complaint about our product. Poor service. , Category: Negative\n",
      "\n",
      "Entry 5: Name: Sandy, Rating: 1, Customer_Feedback: Poor service.  Owners need to focus more on training staff. , Category: Negative\n",
      "\n",
      "Results:\n",
      "\n",
      "     Name  Rating                                           Feedback  \\\n",
      "0  Tendai       5        They have great service and are very kind.    \n",
      "1   Emily       4  The store has amazing staff and provided great...   \n",
      "2   Emily       3  Okay service. The staff needs to work more on ...   \n",
      "3   Emma        1  I am unhappy with how the staff handled my com...   \n",
      "4   Sandy       1  Poor service.  Owners need to focus more on tr...   \n",
      "\n",
      "        Category  \n",
      "0  Very positive  \n",
      "1  Very positive  \n",
      "2        Neutral  \n",
      "3       Negative  \n",
      "4       Negative  \n"
     ]
    }
   ],
   "source": [
    "#Categorizing the feedback for customers making use of a function and for loop\n",
    "\n",
    "def feedback_categories(df): \n",
    "    feedback_category = []\n",
    "\n",
    "    for i, row in df.iterrows():\n",
    "        if row['Rating'] >= 4 and \"great service\" in row ['Feedback'].lower():\n",
    "                feedback_category.append(\"Very positive\")\n",
    "        elif row['Rating'] >= 4:\n",
    "                feedback_category.append(\"Positive\")\n",
    "        elif row['Rating'] == 3:\n",
    "                feedback_category.append(\"Neutral\")\n",
    "        else:\n",
    "                feedback_category.append(\"Negative\")\n",
    "\n",
    "        print(f\"\\nEntry {i+1}: Name: {row['Name']}, Rating: {row['Rating']}, Customer_Feedback: {row ['Feedback']}, Category: {feedback_category[i]}\")\n",
    "\n",
    "    df['Category'] = feedback_category\n",
    "    return df \n",
    "\n",
    "df = pd.DataFrame(data)\n",
    "df = feedback_categories(df)\n",
    "\n",
    "print(\"\\nResults:\\n\")\n",
    "print(df)\n"
   ]
  },
  {
   "cell_type": "code",
   "execution_count": 46,
   "metadata": {},
   "outputs": [
    {
     "name": "stdout",
     "output_type": "stream",
     "text": [
      "\n",
      "Word Count for Each Feedback Entry: \n",
      "Entry 1 - Tendai: 8 words\n",
      "Entry 2 - Emily: 9 words\n",
      "Entry 3 - Emily: 14 words\n",
      "Entry 4 - Emma : 15 words\n",
      "Entry 5 - Sandy: 10 words\n",
      "None\n"
     ]
    }
   ],
   "source": [
    "#Analyzing the feedback comments \n",
    "def count_feedback_words (df):\n",
    "   print(\"\\nWord Count for Each Feedback Entry: \")\n",
    "   for i, row in df.iterrows():\n",
    "      feedback = row[\"Feedback\"]\n",
    "      word_count = len(feedback.split())\n",
    "      print(f\"Entry { i + 1} - {row['Name']}: {word_count} words\")\n",
    "\n",
    "df = pd.DataFrame(data)\n",
    "df = count_feedback_words(df)\n",
    "print(df)\n"
   ]
  },
  {
   "cell_type": "code",
   "execution_count": 49,
   "metadata": {},
   "outputs": [
    {
     "name": "stdout",
     "output_type": "stream",
     "text": [
      "\n",
      "Times 'service' is mention: \n",
      "Entry 1 - Tendai {1}\n",
      "Entry 2 - Emily {1}\n",
      "Entry 3 - Emily {2}\n",
      "Entry 4 - Emma  {1}\n",
      "Entry 5 - Sandy {1}\n",
      "None\n"
     ]
    }
   ],
   "source": [
    "#Counting the occurence of a specific word\n",
    "\n",
    "\n",
    "def find_word (df):\n",
    "    print(\"\\nTimes 'service' is mention: \")\n",
    "    for i, row in df.iterrows():\n",
    "        word = row[\"Feedback\"]\n",
    "        word_counted = word.count(\"service\")\n",
    "        print(f\"Entry {i + 1} - {row['Name']}\", {word_counted})\n",
    "\n",
    "df = pd.DataFrame(data)\n",
    "df = find_word(df)\n",
    "print(df)"
   ]
  }
 ],
 "metadata": {
  "kernelspec": {
   "display_name": "Python 3",
   "language": "python",
   "name": "python3"
  },
  "language_info": {
   "codemirror_mode": {
    "name": "ipython",
    "version": 3
   },
   "file_extension": ".py",
   "mimetype": "text/x-python",
   "name": "python",
   "nbconvert_exporter": "python",
   "pygments_lexer": "ipython3",
   "version": "3.11.9"
  }
 },
 "nbformat": 4,
 "nbformat_minor": 2
}
