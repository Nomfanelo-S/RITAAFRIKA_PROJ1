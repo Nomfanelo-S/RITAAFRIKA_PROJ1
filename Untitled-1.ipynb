{
 "cells": [
  {
   "cell_type": "code",
   "execution_count": 175,
   "metadata": {},
   "outputs": [],
   "source": [
    "import pandas as pd "
   ]
  },
  {
   "cell_type": "code",
   "execution_count": 176,
   "metadata": {},
   "outputs": [],
   "source": [
    "#\n",
    "data = []"
   ]
  },
  {
   "cell_type": "code",
   "execution_count": 177,
   "metadata": {},
   "outputs": [],
   "source": [
    "feedback_entries = 5"
   ]
  },
  {
   "cell_type": "code",
   "execution_count": 178,
   "metadata": {},
   "outputs": [
    {
     "name": "stdout",
     "output_type": "stream",
     "text": [
      "\n",
      "Entry 1:\n",
      "\n",
      "Entry 2:\n",
      "\n",
      "Entry 3:\n",
      "\n",
      "Entry 4:\n",
      "\n",
      "Entry 5:\n",
      "\n",
      "Data in DataFrame format: \n",
      "      Name  Rating                                           Feedback\n",
      "0     Jake       5           We received great service from the staff\n",
      "1      Amy       4  Zach provided great service and was very patie...\n",
      "2    Terry       2  I am disappointed in the service we received a...\n",
      "3  Charles       2                    It was such a  disappointment. \n",
      "4     Gina       2                           I am an unhappy customer\n",
      "\n",
      "CSV file 'customer_feedback.csv' created successfully!\n"
     ]
    }
   ],
   "source": [
    "#Data Collection: Collecting customer feedback data using input function\n",
    "for i in range(feedback_entries):\n",
    "    print(f\"\\nEntry {i + 1}:\")\n",
    "    customer_name = input(\"Enter customer's name: \")\n",
    "    customer_rating = int(input(\"Enter customer's rating: \"))\n",
    "    customer_feedback = input(\"Enter customer's feedback: \")\n",
    "    \n",
    "    entry = {\"Name\": customer_name, \"Rating\": customer_rating, \"Feedback\": customer_feedback}\n",
    "    data.append(entry)\n",
    "\n",
    "#Displaying Collected Data and saving it in a Data Frame \n",
    "\n",
    "df = pd.DataFrame(data)\n",
    "print(\"\\nData in DataFrame format: \")\n",
    "print(df)\n",
    "\n",
    "#Saving information to csv\n",
    "df.to_csv(\"customer_feedback.csv\", index= False)\n",
    "print(\"\\nCSV file 'customer_feedback.csv' created successfully!\")\n"
   ]
  },
  {
   "cell_type": "code",
   "execution_count": 179,
   "metadata": {},
   "outputs": [
    {
     "name": "stdout",
     "output_type": "stream",
     "text": [
      "      Name  Rating                                           Feedback\n",
      "0     Jake       5           We received great service from the staff\n",
      "1      Amy       4  Zach provided great service and was very patie...\n",
      "2    Terry       2  I am disappointed in the service we received a...\n",
      "3  Charles       2                    It was such a  disappointment. \n",
      "4     Gina       2                           I am an unhappy customer\n",
      "<class 'pandas.core.frame.DataFrame'>\n",
      "RangeIndex: 5 entries, 0 to 4\n",
      "Data columns (total 3 columns):\n",
      " #   Column    Non-Null Count  Dtype \n",
      "---  ------    --------------  ----- \n",
      " 0   Name      5 non-null      object\n",
      " 1   Rating    5 non-null      int64 \n",
      " 2   Feedback  5 non-null      object\n",
      "dtypes: int64(1), object(2)\n",
      "memory usage: 252.0+ bytes\n",
      "None\n"
     ]
    }
   ],
   "source": [
    "print(df.head())\n",
    "print(df.info())"
   ]
  },
  {
   "cell_type": "code",
   "execution_count": 180,
   "metadata": {},
   "outputs": [
    {
     "name": "stdout",
     "output_type": "stream",
     "text": [
      "Average Rating: 3.0\n"
     ]
    }
   ],
   "source": [
    "#Calculating total and average ratings\n",
    "total_ratings = df[\"Rating\"].sum()\n",
    "average_rating= total_ratings / len(df)\n",
    "print(\"Average Rating:\", average_rating)"
   ]
  },
  {
   "cell_type": "code",
   "execution_count": 181,
   "metadata": {},
   "outputs": [
    {
     "name": "stdout",
     "output_type": "stream",
     "text": [
      "\n",
      "Name: Jake, Rating: 5, Customer_Feedback: We received great service from the staff, Category: Very positive\n",
      "\n",
      "Name: Amy, Rating: 4, Customer_Feedback: Zach provided great service and was very patient. , Category: Very positive\n",
      "\n",
      "Name: Terry, Rating: 2, Customer_Feedback: I am disappointed in the service we received at this store, Category: Negative\n",
      "\n",
      "Name: Charles, Rating: 2, Customer_Feedback: It was such a  disappointment. , Category: Negative\n",
      "\n",
      "Name: Gina, Rating: 2, Customer_Feedback: I am an unhappy customer, Category: Negative\n",
      "\n",
      "Results:\n",
      "\n",
      "      Name  Rating                                           Feedback  \\\n",
      "0     Jake       5           We received great service from the staff   \n",
      "1      Amy       4  Zach provided great service and was very patie...   \n",
      "2    Terry       2  I am disappointed in the service we received a...   \n",
      "3  Charles       2                    It was such a  disappointment.    \n",
      "4     Gina       2                           I am an unhappy customer   \n",
      "\n",
      "        Category  \n",
      "0  Very positive  \n",
      "1  Very positive  \n",
      "2       Negative  \n",
      "3       Negative  \n",
      "4       Negative  \n"
     ]
    }
   ],
   "source": [
    "#Categorizing the feedback for customers\n",
    "\n",
    "def feedback_categories(df): \n",
    "    feedback_category = []\n",
    "\n",
    "    for i, row in df.iterrows():\n",
    "        if row['Rating'] >= 4 and \"great service\" in row ['Feedback'].lower():\n",
    "                feedback_category.append(\"Very positive\")\n",
    "        elif row['Rating'] >= 4:\n",
    "                feedback_category.append(\"Positive\")\n",
    "        elif row['Rating'] == 3:\n",
    "                feedback_category.append(\"Neutral\")\n",
    "        else:\n",
    "                feedback_category.append(\"Negative\")\n",
    "\n",
    "        print(f\"\\nName: {row['Name']}, Rating: {row['Rating']}, Customer_Feedback: {row ['Feedback']}, Category: {feedback_category[i]}\")\n",
    "\n",
    "    df['Category'] = feedback_category\n",
    "    return df \n",
    "\n",
    "df = pd.DataFrame(data)\n",
    "df = feedback_categories(df)\n",
    "\n",
    "print(\"\\nResults:\\n\")\n",
    "print(df)\n"
   ]
  }
 ],
 "metadata": {
  "kernelspec": {
   "display_name": "Python 3",
   "language": "python",
   "name": "python3"
  },
  "language_info": {
   "codemirror_mode": {
    "name": "ipython",
    "version": 3
   },
   "file_extension": ".py",
   "mimetype": "text/x-python",
   "name": "python",
   "nbconvert_exporter": "python",
   "pygments_lexer": "ipython3",
   "version": "3.11.9"
  }
 },
 "nbformat": 4,
 "nbformat_minor": 2
}
